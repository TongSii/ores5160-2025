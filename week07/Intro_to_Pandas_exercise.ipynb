{
  "nbformat": 4,
  "nbformat_minor": 0,
  "metadata": {
    "colab": {
      "provenance": [],
      "authorship_tag": "ABX9TyPZ/uqUTK7/lPMlWrg0MnEH",
      "include_colab_link": true
    },
    "kernelspec": {
      "name": "python3",
      "display_name": "Python 3"
    },
    "language_info": {
      "name": "python"
    }
  },
  "cells": [
    {
      "cell_type": "markdown",
      "metadata": {
        "id": "view-in-github",
        "colab_type": "text"
      },
      "source": [
        "<a href=\"https://colab.research.google.com/github/TongSii/ores5160-2025/blob/main/week07/Intro_to_Pandas_exercise.ipynb\" target=\"_parent\"><img src=\"https://colab.research.google.com/assets/colab-badge.svg\" alt=\"Open In Colab\"/></a>"
      ]
    },
    {
      "cell_type": "markdown",
      "source": [
        "**Here is the data for this esercise:**\n",
        "Download the following file and upload it using the code block above. Then rename the long file name to airquality.csv.\n",
        "\n",
        "https://drive.google.com/file/d/1SBD8R6jl5_ycl3X7hulrlHpqR-w3i__a/view?usp=drive_link\n",
        "\n",
        "The information below is for licensing compliance purposes per dataset owner instructions.\n",
        "\n",
        "License: https://creativecommons.org/licenses/by-sa/4.0/.\n",
        "Data Source: https://openaq.org/#/about.\n",
        "Changes: Subset by country US and limited to the most recent week of data in the dataset\n",
        "The interactive tables feature only supports 20,000 rows, and this file has a lot more than that, so we are going to read it in and tell Pandas to only look at the first 10,000 rows. When we are just getting a sense for the type of data in the file, this is fine. Later if we need to read all of the data, we can simply remove the nrows= flag from the code."
      ],
      "metadata": {
        "id": "9MmcEiuS9Rn_"
      }
    },
    {
      "cell_type": "markdown",
      "source": [
        "Instructions\n",
        "\n",
        "\n",
        "*   Use Google Colab or your preferred Python environment.\n",
        "*   Upload the dataset(s) as instructed in each question.\n",
        "\n",
        "\n"
      ],
      "metadata": {
        "id": "6jL3zhBc9eXR"
      }
    },
    {
      "cell_type": "markdown",
      "source": [
        "Q1. Upload and Preview Data\n",
        "\n",
        "\t1.\tUpload the file airquality.csv to your Colab environment.\\\\\n",
        "\n",
        "\t2.\tLoad the first 10,000 rows into a Pandas dataframe called airquality.\\\\\n",
        "\n",
        "\t3.\tDisplay the first 5 rows of the dataframe.\\\\"
      ],
      "metadata": {
        "id": "-Q_EoCPt9wOo"
      }
    },
    {
      "cell_type": "markdown",
      "source": [
        "Q2. Data Summary and Cleaning\n",
        "\n",
        "\t1.\tUse .info() and .describe(include=\"all\") to explore the dataset.\\\\\n",
        "\n",
        "\t2.\tIdentify any columns that have missing (NaN) values.\\\\\n",
        "\n",
        "\t3.\tDrop all rows that contain missing values.\\\\"
      ],
      "metadata": {
        "id": "LkLEk1Hh92oH"
      }
    },
    {
      "cell_type": "markdown",
      "source": [
        "Q3. Data Visualization\n",
        "\n",
        "\t1.\tCreate a histogram of the pm25 values.\\\\\n",
        "\n",
        "\t2.\tCreate a boxplot for the pm25 column.\\\\\n",
        "\n",
        "\t3.\tCreate a scatter plot comparing pm25 and temperature.\\\\"
      ],
      "metadata": {
        "id": "PzRCI5_1986r"
      }
    },
    {
      "cell_type": "markdown",
      "source": [
        "\n",
        "## Submitting Your Work\n",
        "\n",
        "Save you work to the path week07/week07_assignment_pandas.ipynb"
      ],
      "metadata": {
        "id": "wUsKX_KY-I-P"
      }
    },
    {
      "cell_type": "code",
      "execution_count": null,
      "metadata": {
        "id": "Yy3uvTyX87pu"
      },
      "outputs": [],
      "source": []
    }
  ]
}