{
  "nbformat": 4,
  "nbformat_minor": 0,
  "metadata": {
    "colab": {
      "provenance": [],
      "authorship_tag": "ABX9TyPfFSSoJE3EnFi4cwzDTx1D",
      "include_colab_link": true
    },
    "kernelspec": {
      "name": "python3",
      "display_name": "Python 3"
    },
    "language_info": {
      "name": "python"
    }
  },
  "cells": [
    {
      "cell_type": "markdown",
      "metadata": {
        "id": "view-in-github",
        "colab_type": "text"
      },
      "source": [
        "<a href=\"https://colab.research.google.com/github/TongSii/ores5160-2025/blob/main/week11/week11assignment.ipynb\" target=\"_parent\"><img src=\"https://colab.research.google.com/assets/colab-badge.svg\" alt=\"Open In Colab\"/></a>"
      ]
    },
    {
      "cell_type": "markdown",
      "source": [
        "\n",
        "Q1. Reading the CSV File (pandas + csv)\n",
        "\n",
        "\t1.\tUse the csv module to open and print the first 5 rows of est2018-pop-res.csv.\n",
        "\n",
        "\t2.\tThen use pandas.read_csv() to load the same file into a DataFrame.\n",
        "\n",
        "\t•\tDisplay the shape (rows × columns).\n",
        "\n",
        "\t•\tPrint the list of column names.\n",
        "\n",
        "\t3.\tWhich column represents total population? Display the top 5 most populous states\n"
      ],
      "metadata": {
        "id": "Dzqo7FHDFdKd"
      }
    },
    {
      "cell_type": "markdown",
      "source": [
        "Q2. Basic Statistical Analysis (pandas)\n",
        "\n",
        "\t1.\tCompute the average population across all states.\n",
        "\n",
        "\t2.\tFind which region has the highest total population.\n",
        "\n",
        "\t3.\tPlot a bar chart showing the population by region (use matplotlib)"
      ],
      "metadata": {
        "id": "ZfwxqwO3FmFV"
      }
    },
    {
      "cell_type": "markdown",
      "source": [
        "Q3. Parsing the JSON File (FHIR structure)\n",
        "\n",
        "Using json module:\n",
        "\n",
        "\t1.\tLoad patient.json into a Python dictionary.\n",
        "\n",
        "\t2.\tExtract and print:\n",
        "\n",
        "\t•\tPatient’s full official name\n",
        "\n",
        "\t•\tGender and birth date\n",
        "\n",
        "\t•\tCurrent address (city, state, postal code)\n",
        "  \n",
        "\t3.\tCount how many phone numbers the patient has, and list their types (e.g., work, mobile, home)."
      ],
      "metadata": {
        "id": "Xgx7ao1rF1yg"
      }
    }
  ]
}